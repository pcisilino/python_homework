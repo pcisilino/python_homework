{
 "cells": [
  {
   "cell_type": "code",
   "execution_count": 286,
   "metadata": {},
   "outputs": [],
   "source": [
    "#PyBank Homework\n",
    "\n",
    "#Import csv file to analyze\n",
    "\n",
    "from pathlib import Path\n",
    "import csv"
   ]
  },
  {
   "cell_type": "code",
   "execution_count": 287,
   "metadata": {},
   "outputs": [],
   "source": [
    "csvpath = Path(\"/Users/pablocisilino/Desktop/budget_data.csv\")"
   ]
  },
  {
   "cell_type": "code",
   "execution_count": 288,
   "metadata": {},
   "outputs": [],
   "source": [
    "output = \"\""
   ]
  },
  {
   "cell_type": "code",
   "execution_count": 289,
   "metadata": {},
   "outputs": [],
   "source": [
    "#Define variables\n",
    "\n",
    "month_count = 0\n",
    "net_profit = 0\n",
    "difference_sum = 0\n",
    "prev_value = 0\n",
    "date_min=\"\"\n",
    "date_max=\"\"\n",
    "max_difference = 0\n",
    "min_difference = 0"
   ]
  },
  {
   "cell_type": "code",
   "execution_count": 290,
   "metadata": {},
   "outputs": [
    {
     "name": "stdout",
     "output_type": "stream",
     "text": [
      "Financial Analysis\n",
      "------------------\n",
      "Total Months:86\n",
      "Total: $38382578\n",
      "Average Change: $-2315.12\n",
      "Greatest Increase in Profits: Feb-2012 $1926159\n",
      "Greatest Decrease in Profits: Sep-2013 $-2196167\n"
     ]
    }
   ],
   "source": [
    "#open csv file in reader\n",
    "with open(csvpath,\"r\") as csvfile:\n",
    "    csvreader = csv.reader(csvfile, delimiter=\",\")\n",
    "    csvheader = next(csvreader)\n",
    "    \n",
    "#count number of months, add all profit/lossea\n",
    "    for row in csvreader:\n",
    "        month_count +=1\n",
    "        net_profit += int(row[1])\n",
    "#average the changes om P/L over the period\n",
    "        if month_count > 1:\n",
    "            difference = int(row[1]) - prev_value\n",
    "            difference_sum += difference \n",
    "            if difference <= min_difference:\n",
    "                min_difference = difference\n",
    "                date_min = row[0]\n",
    "            if difference >= max_difference:\n",
    "                max_difference = difference\n",
    "                date_max = row[0]\n",
    "        prev_value = int(row[1])\n",
    "        \n",
    "    average_change = difference_sum / (month_count-1)\n",
    "    print(f\"Financial Analysis\")\n",
    "    print(f\"------------------\")\n",
    "    print(f\"Total Months:{month_count}\")\n",
    "    print(f\"Total: ${net_profit}\")\n",
    "    print(f\"Average Change: ${round(average_change,2)}\")\n",
    "    print(f\"Greatest Increase in Profits: {date_max} ${max_difference}\")\n",
    "    print(f\"Greatest Decrease in Profits: {date_min} ${min_difference}\")\n",
    "        \n",
    "        \n",
    "        "
   ]
  },
  {
   "cell_type": "code",
   "execution_count": 294,
   "metadata": {},
   "outputs": [
    {
     "name": "stdout",
     "output_type": "stream",
     "text": [
      "\n",
      "    Financial Analysis\n",
      "    ------------------------------\n",
      "    Total Months: 86\n",
      "    Total: 38382578\n",
      "    Average Change: -2315.1176470588234\n",
      "    Greatest Increase in Profits: Feb-2012 $1926159\n",
      "    Greatest Decrease in Profits: Sep-2013 $-2196167\n",
      "    \n"
     ]
    }
   ],
   "source": [
    "# Output\n",
    "\n",
    "output = f'''\n",
    "    Financial Analysis\n",
    "    {'-'*30}\n",
    "    Total Months: {month_count}\n",
    "    Total: {net_profit}\n",
    "    Average Change: {average_change}\n",
    "    Greatest Increase in Profits: {date_max} ${max_difference}\n",
    "    Greatest Decrease in Profits: {date_min} ${min_difference}\n",
    "    '''\n",
    "print(output)\n",
    "    \n",
    "\n",
    "\n",
    "with open (\"/Users/pablocisilino/Desktop/python_homework/PyBank/pythonhwk1.txt\", 'w') as csvfile:\n",
    "    csvfile.write(output)"
   ]
  },
  {
   "cell_type": "code",
   "execution_count": null,
   "metadata": {},
   "outputs": [],
   "source": [
    "\n"
   ]
  },
  {
   "cell_type": "code",
   "execution_count": null,
   "metadata": {},
   "outputs": [],
   "source": []
  }
 ],
 "metadata": {
  "kernelspec": {
   "display_name": "Python 3",
   "language": "python",
   "name": "python3"
  },
  "language_info": {
   "codemirror_mode": {
    "name": "ipython",
    "version": 3
   },
   "file_extension": ".py",
   "mimetype": "text/x-python",
   "name": "python",
   "nbconvert_exporter": "python",
   "pygments_lexer": "ipython3",
   "version": "3.8.3"
  }
 },
 "nbformat": 4,
 "nbformat_minor": 4
}
